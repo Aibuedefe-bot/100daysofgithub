{
 "cells": [
  {
   "cell_type": "code",
   "execution_count": 5,
   "id": "661bb613",
   "metadata": {},
   "outputs": [
    {
     "name": "stdout",
     "output_type": "stream",
     "text": [
      "Collecting opendatasets\n",
      "  Using cached opendatasets-0.1.22-py3-none-any.whl (15 kB)\n",
      "Requirement already satisfied: tqdm in c:\\users\\edecr\\appdata\\local\\programs\\python\\python39\\lib\\site-packages (from opendatasets) (4.65.0)\n",
      "Collecting kaggle (from opendatasets)\n",
      "  Using cached kaggle-1.7.4.2-py3-none-any.whl (173 kB)\n",
      "Requirement already satisfied: click in c:\\users\\edecr\\appdata\\local\\programs\\python\\python39\\lib\\site-packages (from opendatasets) (8.1.3)\n",
      "Requirement already satisfied: colorama in c:\\users\\edecr\\appdata\\local\\programs\\python\\python39\\lib\\site-packages (from click->opendatasets) (0.4.5)\n",
      "Requirement already satisfied: bleach in c:\\users\\edecr\\appdata\\local\\programs\\python\\python39\\lib\\site-packages (from kaggle->opendatasets) (6.0.0)\n",
      "Requirement already satisfied: certifi>=14.05.14 in c:\\users\\edecr\\appdata\\local\\programs\\python\\python39\\lib\\site-packages (from kaggle->opendatasets) (2021.5.30)\n",
      "Requirement already satisfied: charset-normalizer in c:\\users\\edecr\\appdata\\local\\programs\\python\\python39\\lib\\site-packages (from kaggle->opendatasets) (2.0.6)\n",
      "Requirement already satisfied: idna in c:\\users\\edecr\\appdata\\local\\programs\\python\\python39\\lib\\site-packages (from kaggle->opendatasets) (3.2)\n",
      "Requirement already satisfied: protobuf in c:\\users\\edecr\\appdata\\local\\programs\\python\\python39\\lib\\site-packages (from kaggle->opendatasets) (3.20.3)\n",
      "Requirement already satisfied: python-dateutil>=2.5.3 in c:\\users\\edecr\\appdata\\local\\programs\\python\\python39\\lib\\site-packages (from kaggle->opendatasets) (2.8.2)\n",
      "Collecting python-slugify (from kaggle->opendatasets)\n",
      "  Using cached python_slugify-8.0.4-py2.py3-none-any.whl (10 kB)\n",
      "Requirement already satisfied: requests in c:\\users\\edecr\\appdata\\local\\programs\\python\\python39\\lib\\site-packages (from kaggle->opendatasets) (2.31.0)\n",
      "Requirement already satisfied: setuptools>=21.0.0 in c:\\users\\edecr\\appdata\\local\\programs\\python\\python39\\lib\\site-packages (from kaggle->opendatasets) (68.0.0)\n",
      "Requirement already satisfied: six>=1.10 in c:\\users\\edecr\\appdata\\local\\programs\\python\\python39\\lib\\site-packages (from kaggle->opendatasets) (1.16.0)\n",
      "Collecting text-unidecode (from kaggle->opendatasets)\n",
      "  Using cached text_unidecode-1.3-py2.py3-none-any.whl (78 kB)\n",
      "Requirement already satisfied: urllib3>=1.15.1 in c:\\users\\edecr\\appdata\\local\\programs\\python\\python39\\lib\\site-packages (from kaggle->opendatasets) (1.26.7)\n",
      "Requirement already satisfied: webencodings in c:\\users\\edecr\\appdata\\local\\programs\\python\\python39\\lib\\site-packages (from kaggle->opendatasets) (0.5.1)\n",
      "Installing collected packages: text-unidecode, python-slugify, kaggle, opendatasets\n",
      "Successfully installed kaggle-1.7.4.2 opendatasets-0.1.22 python-slugify-8.0.4 text-unidecode-1.3\n",
      "Note: you may need to restart the kernel to use updated packages.\n"
     ]
    },
    {
     "name": "stderr",
     "output_type": "stream",
     "text": [
      "WARNING: Ignoring invalid distribution -illow (c:\\users\\edecr\\appdata\\local\\programs\\python\\python39\\lib\\site-packages)\n",
      "WARNING: Ignoring invalid distribution -illow (c:\\users\\edecr\\appdata\\local\\programs\\python\\python39\\lib\\site-packages)\n",
      "\n",
      "[notice] A new release of pip is available: 23.1.2 -> 25.0.1\n",
      "[notice] To update, run: C:\\Users\\edecr\\AppData\\Local\\Programs\\Python\\Python39\\python.exe -m pip install --upgrade pip\n"
     ]
    }
   ],
   "source": [
    "pip install opendatasets"
   ]
  },
  {
   "cell_type": "code",
   "execution_count": 6,
   "id": "c3cca4e5",
   "metadata": {},
   "outputs": [],
   "source": [
    "import opendatasets as od"
   ]
  },
  {
   "cell_type": "code",
   "execution_count": 7,
   "id": "b966a8c2",
   "metadata": {},
   "outputs": [
    {
     "name": "stdout",
     "output_type": "stream",
     "text": [
      "Dataset URL: https://www.kaggle.com/datasets/saikalbatyrbekova/korean-dramas-dataset-eda\n"
     ]
    }
   ],
   "source": [
    "od.download('https://www.kaggle.com/datasets/saikalbatyrbekova/korean-dramas-dataset-eda')"
   ]
  },
  {
   "cell_type": "code",
   "execution_count": 10,
   "id": "c413ace3",
   "metadata": {},
   "outputs": [
    {
     "data": {
      "text/plain": [
       "[' script to automate dataset downloading from Kaggle..ipynb',\n",
       " '.ipynb_checkpoints',\n",
       " 'kaggle.json',\n",
       " 'korean-dramas-dataset-eda',\n",
       " 'Web scraping with Pandas.ipynb']"
      ]
     },
     "execution_count": 10,
     "metadata": {},
     "output_type": "execute_result"
    }
   ],
   "source": [
    "import os\n",
    "os.listdir()"
   ]
  },
  {
   "cell_type": "code",
   "execution_count": null,
   "id": "08ea1787",
   "metadata": {},
   "outputs": [],
   "source": []
  }
 ],
 "metadata": {
  "kernelspec": {
   "display_name": "fraud_detection",
   "language": "python",
   "name": "fraud_detection"
  },
  "language_info": {
   "codemirror_mode": {
    "name": "ipython",
    "version": 3
   },
   "file_extension": ".py",
   "mimetype": "text/x-python",
   "name": "python",
   "nbconvert_exporter": "python",
   "pygments_lexer": "ipython3",
   "version": "3.9.7"
  }
 },
 "nbformat": 4,
 "nbformat_minor": 5
}
