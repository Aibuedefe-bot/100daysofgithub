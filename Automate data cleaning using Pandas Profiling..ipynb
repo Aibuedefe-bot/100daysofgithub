{
 "cells": [
  {
   "cell_type": "code",
   "execution_count": 8,
   "id": "9283c033",
   "metadata": {
    "scrolled": true
   },
   "outputs": [
    {
     "data": {
      "text/html": [
       "\n",
       "            <div>\n",
       "                <ins><a href=\"https://ydata.ai/register\">Upgrade to ydata-sdk</a></ins>\n",
       "                <p>\n",
       "                    Improve your data and profiling with ydata-sdk, featuring data quality scoring, redundancy detection, outlier identification, text validation, and synthetic data generation.\n",
       "                </p>\n",
       "            </div>\n",
       "            "
      ],
      "text/plain": [
       "<IPython.core.display.HTML object>"
      ]
     },
     "metadata": {},
     "output_type": "display_data"
    }
   ],
   "source": [
    "from ydata_profiling import ProfileReport\n",
    "import pandas as pd"
   ]
  },
  {
   "cell_type": "code",
   "execution_count": 15,
   "id": "2317034d",
   "metadata": {},
   "outputs": [],
   "source": [
    "data = pd.read_csv(\"korean-dramas-dataset-eda\\kdrama_DATASET.csv\")"
   ]
  },
  {
   "cell_type": "code",
   "execution_count": 22,
   "id": "80ab4ac0",
   "metadata": {},
   "outputs": [],
   "source": [
    "kr_movies = ProfileReport(data, title=\"Korean Dramas\")"
   ]
  },
  {
   "cell_type": "code",
   "execution_count": 24,
   "id": "6757637d",
   "metadata": {},
   "outputs": [
    {
     "data": {
      "application/vnd.jupyter.widget-view+json": {
       "model_id": "4f5cf13ae2e24aeb82e8d312e9ab54f7",
       "version_major": 2,
       "version_minor": 0
      },
      "text/plain": [
       "Summarize dataset:   0%|          | 0/5 [00:00<?, ?it/s]"
      ]
     },
     "metadata": {},
     "output_type": "display_data"
    },
    {
     "name": "stderr",
     "output_type": "stream",
     "text": [
      "\n",
      "  0%|                                                                                            | 0/9 [00:00<?, ?it/s]\u001b[A\n"
     ]
    },
    {
     "name": "stdout",
     "output_type": "stream",
     "text": [
      "Unexpected exception formatting exception. Falling back to standard exception\n"
     ]
    },
    {
     "name": "stderr",
     "output_type": "stream",
     "text": [
      "Traceback (most recent call last):\n",
      "  File \"C:\\Users\\edecr\\AppData\\Local\\Programs\\Python\\Python39\\lib\\site-packages\\ydata_profiling\\utils\\compat.py\", line 28, in optional_option_context\n",
      "    with pd.option_context(option_key, value):\n",
      "  File \"C:\\Users\\edecr\\AppData\\Local\\Programs\\Python\\Python39\\lib\\site-packages\\pandas\\_config\\config.py\", line 443, in __enter__\n",
      "    >>> pd.reset_option('display.max_columns')  # doctest: +SKIP\n",
      "  File \"C:\\Users\\edecr\\AppData\\Local\\Programs\\Python\\Python39\\lib\\site-packages\\pandas\\_config\\config.py\", line 443, in <listcomp>\n",
      "    >>> pd.reset_option('display.max_columns')  # doctest: +SKIP\n",
      "  File \"C:\\Users\\edecr\\AppData\\Local\\Programs\\Python\\Python39\\lib\\site-packages\\pandas\\_config\\config.py\", line 136, in _get_option\n",
      "  File \"C:\\Users\\edecr\\AppData\\Local\\Programs\\Python\\Python39\\lib\\site-packages\\pandas\\_config\\config.py\", line 122, in _get_single_key\n",
      "pandas._config.config.OptionError: \"No such keys(s): 'future.no_silent_downcasting'\"\n",
      "\n",
      "During handling of the above exception, another exception occurred:\n",
      "\n",
      "Traceback (most recent call last):\n",
      "  File \"C:\\Users\\edecr\\AppData\\Local\\Programs\\Python\\Python39\\lib\\site-packages\\IPython\\core\\interactiveshell.py\", line 3508, in run_code\n",
      "    exec(code_obj, self.user_global_ns, self.user_ns)\n",
      "  File \"C:\\Users\\edecr\\AppData\\Local\\Temp\\ipykernel_19688\\3261394503.py\", line 1, in <module>\n",
      "    kr_movies.to_file(output_file=\"kdrema\")\n",
      "  File \"C:\\Users\\edecr\\AppData\\Local\\Programs\\Python\\Python39\\lib\\site-packages\\ydata_profiling\\profile_report.py\", line 381, in to_file\n",
      "    data = self.to_html()\n",
      "  File \"C:\\Users\\edecr\\AppData\\Local\\Programs\\Python\\Python39\\lib\\site-packages\\ydata_profiling\\profile_report.py\", line 498, in to_html\n",
      "    return self.html\n",
      "  File \"C:\\Users\\edecr\\AppData\\Local\\Programs\\Python\\Python39\\lib\\site-packages\\ydata_profiling\\profile_report.py\", line 294, in html\n",
      "    self._html = self._render_html()\n",
      "  File \"C:\\Users\\edecr\\AppData\\Local\\Programs\\Python\\Python39\\lib\\site-packages\\ydata_profiling\\profile_report.py\", line 411, in _render_html\n",
      "    report = self.report\n",
      "  File \"C:\\Users\\edecr\\AppData\\Local\\Programs\\Python\\Python39\\lib\\site-packages\\ydata_profiling\\profile_report.py\", line 288, in report\n",
      "    self._report = get_report_structure(self.config, self.description_set)\n",
      "  File \"C:\\Users\\edecr\\AppData\\Local\\Programs\\Python\\Python39\\lib\\site-packages\\ydata_profiling\\profile_report.py\", line 270, in description_set\n",
      "    self._description_set = describe_df(\n",
      "  File \"C:\\Users\\edecr\\AppData\\Local\\Programs\\Python\\Python39\\lib\\site-packages\\ydata_profiling\\model\\describe.py\", line 89, in describe\n",
      "    series_description = get_series_descriptions(\n",
      "  File \"C:\\Users\\edecr\\AppData\\Local\\Programs\\Python\\Python39\\lib\\site-packages\\ydata_profiling\\model\\summary.py\", line 62, in get_series_descriptions\n",
      "    return pandas_get_series_descriptions(config, df, summarizer, typeset, pbar)\n",
      "  File \"C:\\Users\\edecr\\AppData\\Local\\Programs\\Python\\Python39\\lib\\site-packages\\ydata_profiling\\model\\pandas\\summary_pandas.py\", line 98, in pandas_get_series_descriptions\n",
      "    name, description = future.result()\n",
      "  File \"C:\\Users\\edecr\\AppData\\Local\\Programs\\Python\\Python39\\lib\\concurrent\\futures\\_base.py\", line 438, in result\n",
      "    return self.__get_result()\n",
      "  File \"C:\\Users\\edecr\\AppData\\Local\\Programs\\Python\\Python39\\lib\\concurrent\\futures\\_base.py\", line 390, in __get_result\n",
      "    raise self._exception\n",
      "  File \"C:\\Users\\edecr\\AppData\\Local\\Programs\\Python\\Python39\\lib\\concurrent\\futures\\thread.py\", line 52, in run\n",
      "    result = self.fn(*self.args, **self.kwargs)\n",
      "  File \"C:\\Users\\edecr\\AppData\\Local\\Programs\\Python\\Python39\\lib\\site-packages\\ydata_profiling\\model\\pandas\\summary_pandas.py\", line 81, in describe_column\n",
      "    description = pandas_describe_1d(config, series, summarizer, typeset)\n",
      "  File \"C:\\Users\\edecr\\AppData\\Local\\Programs\\Python\\Python39\\lib\\site-packages\\ydata_profiling\\model\\pandas\\summary_pandas.py\", line 43, in pandas_describe_1d\n",
      "    series = series.fillna(np.nan).infer_objects(copy=False)\n",
      "TypeError: infer_objects() got an unexpected keyword argument 'copy'\n",
      "\n",
      "During handling of the above exception, another exception occurred:\n",
      "\n",
      "Traceback (most recent call last):\n",
      "  File \"C:\\Users\\edecr\\AppData\\Local\\Programs\\Python\\Python39\\lib\\site-packages\\IPython\\core\\interactiveshell.py\", line 2105, in showtraceback\n",
      "    stb = self.InteractiveTB.structured_traceback(\n",
      "  File \"C:\\Users\\edecr\\AppData\\Local\\Programs\\Python\\Python39\\lib\\site-packages\\IPython\\core\\ultratb.py\", line 1428, in structured_traceback\n",
      "    return FormattedTB.structured_traceback(\n",
      "  File \"C:\\Users\\edecr\\AppData\\Local\\Programs\\Python\\Python39\\lib\\site-packages\\IPython\\core\\ultratb.py\", line 1319, in structured_traceback\n",
      "    return VerboseTB.structured_traceback(\n",
      "  File \"C:\\Users\\edecr\\AppData\\Local\\Programs\\Python\\Python39\\lib\\site-packages\\IPython\\core\\ultratb.py\", line 1191, in structured_traceback\n",
      "    formatted_exceptions += self.format_exception_as_a_whole(etype, evalue, etb, lines_of_context,\n",
      "  File \"C:\\Users\\edecr\\AppData\\Local\\Programs\\Python\\Python39\\lib\\site-packages\\IPython\\core\\ultratb.py\", line 1087, in format_exception_as_a_whole\n",
      "    frames.append(self.format_record(record))\n",
      "  File \"C:\\Users\\edecr\\AppData\\Local\\Programs\\Python\\Python39\\lib\\site-packages\\IPython\\core\\ultratb.py\", line 969, in format_record\n",
      "    frame_info.lines, Colors, self.has_colors, lvals\n",
      "  File \"C:\\Users\\edecr\\AppData\\Local\\Programs\\Python\\Python39\\lib\\site-packages\\IPython\\core\\ultratb.py\", line 792, in lines\n",
      "    return self._sd.lines\n",
      "  File \"C:\\Users\\edecr\\AppData\\Local\\Programs\\Python\\Python39\\lib\\site-packages\\stack_data\\utils.py\", line 144, in cached_property_wrapper\n",
      "    value = obj.__dict__[self.func.__name__] = self.func(obj)\n",
      "  File \"C:\\Users\\edecr\\AppData\\Local\\Programs\\Python\\Python39\\lib\\site-packages\\stack_data\\core.py\", line 734, in lines\n",
      "    pieces = self.included_pieces\n",
      "  File \"C:\\Users\\edecr\\AppData\\Local\\Programs\\Python\\Python39\\lib\\site-packages\\stack_data\\utils.py\", line 144, in cached_property_wrapper\n",
      "    value = obj.__dict__[self.func.__name__] = self.func(obj)\n",
      "  File \"C:\\Users\\edecr\\AppData\\Local\\Programs\\Python\\Python39\\lib\\site-packages\\stack_data\\core.py\", line 681, in included_pieces\n",
      "    pos = scope_pieces.index(self.executing_piece)\n",
      "  File \"C:\\Users\\edecr\\AppData\\Local\\Programs\\Python\\Python39\\lib\\site-packages\\stack_data\\utils.py\", line 144, in cached_property_wrapper\n",
      "    value = obj.__dict__[self.func.__name__] = self.func(obj)\n",
      "  File \"C:\\Users\\edecr\\AppData\\Local\\Programs\\Python\\Python39\\lib\\site-packages\\stack_data\\core.py\", line 660, in executing_piece\n",
      "    return only(\n",
      "  File \"C:\\Users\\edecr\\AppData\\Local\\Programs\\Python\\Python39\\lib\\site-packages\\executing\\executing.py\", line 190, in only\n",
      "    raise NotOneValueFound('Expected one value, found 0')\n",
      "executing.executing.NotOneValueFound: Expected one value, found 0\n"
     ]
    }
   ],
   "source": [
    "kr_movies.to_file(output_file=\"kdrema\")"
   ]
  },
  {
   "cell_type": "code",
   "execution_count": null,
   "id": "6e205d41",
   "metadata": {},
   "outputs": [],
   "source": []
  }
 ],
 "metadata": {
  "kernelspec": {
   "display_name": "fraud_detection",
   "language": "python",
   "name": "fraud_detection"
  },
  "language_info": {
   "codemirror_mode": {
    "name": "ipython",
    "version": 3
   },
   "file_extension": ".py",
   "mimetype": "text/x-python",
   "name": "python",
   "nbconvert_exporter": "python",
   "pygments_lexer": "ipython3",
   "version": "3.9.7"
  }
 },
 "nbformat": 4,
 "nbformat_minor": 5
}
